{
 "cells": [
  {
   "cell_type": "code",
   "execution_count": null,
   "metadata": {},
   "outputs": [],
   "source": [
    "import urllib.request as req\n",
    "import gzip, os, os.path"
   ]
  },
  {
   "cell_type": "code",
   "execution_count": null,
   "metadata": {},
   "outputs": [],
   "source": [
    "savepath = \"./mnist\"\n",
    "baseurl = \"http://yann.lecun.com/exdb/mnist\"\n",
    "files = [\n",
    "    \"train-images-idx3-ubyte.gz\",\n",
    "    \"train-labels-idx1-ubyte.gz\",\n",
    "    \"t10k-images-idx3-ubyte.gz\",\n",
    "    \"t10k-labels-idx1-ubyte.gz\"]"
   ]
  },
  {
   "cell_type": "code",
   "execution_count": null,
   "metadata": {},
   "outputs": [],
   "source": [
    "# ダウンロード\n",
    "if not os.path.exists(savepath): os.mkdir(savepath)\n",
    "for f in files:\n",
    "    url = baseurl + \"/\" + f\n",
    "    loc = savepath + \"/\" + f\n",
    "    print(\"download:\", url)\n",
    "    if not os.path.exists(loc):\n",
    "        req.urlretrieve(url, loc)"
   ]
  },
  {
   "cell_type": "code",
   "execution_count": null,
   "metadata": {},
   "outputs": [],
   "source": [
    "# GZip解凍\n",
    "for f in files:\n",
    "    gz_file = savepath + \"/\" + f\n",
    "    raw_file = savepath + \"/\" + f.replace(\".gz\", \"\")\n",
    "    print(\"gzip:\", f)\n",
    "    with gzip.open(gz_file, \"rb\") as fp:\n",
    "        body = fp.read()\n",
    "        with open(raw_file, \"wb\") as w:\n",
    "            w.write(body)\n",
    "print(\"ok\")"
   ]
  },
  {
   "cell_type": "code",
   "execution_count": null,
   "metadata": {},
   "outputs": [],
   "source": []
  }
 ],
 "metadata": {
  "kernelspec": {
   "display_name": "Python 3",
   "language": "python",
   "name": "python3"
  },
  "language_info": {
   "codemirror_mode": {
    "name": "ipython",
    "version": 3
   },
   "file_extension": ".py",
   "mimetype": "text/x-python",
   "name": "python",
   "nbconvert_exporter": "python",
   "pygments_lexer": "ipython3",
   "version": "3.6.4"
  }
 },
 "nbformat": 4,
 "nbformat_minor": 2
}
