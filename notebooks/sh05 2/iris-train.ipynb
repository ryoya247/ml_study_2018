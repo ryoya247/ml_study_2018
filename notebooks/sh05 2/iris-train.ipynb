{
 "cells": [
  {
   "cell_type": "markdown",
   "metadata": {},
   "source": [
    "# 機械学習でアヤメの品種を分類をしよう\n",
    "## 適宜 sh05/iris.csv を見て確認する\n",
    "## 流れ\n",
    "1. CSV読み込み\n",
    "2. データをシャッフル\n",
    "3. 学習用とテスト用に分割\n",
    "4. 学習、予測\n",
    "5. 正解率の計算"
   ]
  },
  {
   "cell_type": "markdown",
   "metadata": {},
   "source": [
    "## (0. モジュール入れる)"
   ]
  },
  {
   "cell_type": "code",
   "execution_count": null,
   "metadata": {},
   "outputs": [],
   "source": [
    "from sklearn import svm, metrics\n",
    "import random, re"
   ]
  },
  {
   "cell_type": "markdown",
   "metadata": {},
   "source": [
    "## 1. CSV読み込み\n",
    "- lambdaはとりあえずは関数を変数にぶち込む手順としてだけ覚えておく\n",
    "- map関数\n",
    "  - 関数とシーケンスを引数とする\n",
    "  - シーケンスの各要素を引数として関数を実行する\n",
    "  - 今回はfn(文字列を数値にする)関数と cols (例えば4.4,2.9,1.4,0.2,Iris-setosa)シーケンスを引数としている\n",
    "- 文字列の数値化にint(), float()とかではなく正規表現で引っ掛けてるのは品種名(Iris-setosaとか)だとエラーになるからでは？\n",
    "- 三項演算はテキストにあったので割愛\n",
    "- カラム名は要らないので消す"
   ]
  },
  {
   "cell_type": "code",
   "execution_count": null,
   "metadata": {},
   "outputs": [],
   "source": [
    "csv = []\n",
    "with open('iris.csv', 'r', encoding='utf-8') as fp:\n",
    "    for line in fp:\n",
    "        line = line.strip()\n",
    "        cols = line.split(',')\n",
    "        fn = lambda n : float(n) if re.match(r'^[0-9\\.]+$', n) else n\n",
    "        cols = list(map(fn, cols))\n",
    "        csv.append(cols)\n",
    "del csv[0]"
   ]
  },
  {
   "cell_type": "markdown",
   "metadata": {},
   "source": [
    "## 2. データをシャッフル\n",
    "- もし 2 : 1 = (Iris-setosa + Iris-versicolor) : Iris-virginca とかになったらウケるから？"
   ]
  },
  {
   "cell_type": "code",
   "execution_count": null,
   "metadata": {},
   "outputs": [],
   "source": [
    "random.shuffle(csv)"
   ]
  },
  {
   "cell_type": "markdown",
   "metadata": {},
   "source": [
    "## 3. 学習用とテスト用に分割\n",
    "- 初めの２/３は学習データ、残りはテストデータ\n",
    "- data  = csv[i][0:4] 0番目から4個なので0番目から３番目まで(４番目は品種名-ラベル)"
   ]
  },
  {
   "cell_type": "code",
   "execution_count": null,
   "metadata": {},
   "outputs": [],
   "source": [
    "total_len = len(csv)\n",
    "train_len = int(total_len * 2 / 3)\n",
    "train_data = []\n",
    "train_label = []\n",
    "test_data = []\n",
    "test_label = []\n",
    "for i in range(total_len):\n",
    "    data  = csv[i][0:4]\n",
    "    label = csv[i][4]\n",
    "    if i < train_len:\n",
    "        train_data.append(data)\n",
    "        train_label.append(label)\n",
    "    else:\n",
    "        test_data.append(data)\n",
    "        test_label.append(label)"
   ]
  },
  {
   "cell_type": "markdown",
   "metadata": {},
   "source": [
    "## 4. 学習、予測\n",
    "- xorと同じ"
   ]
  },
  {
   "cell_type": "code",
   "execution_count": null,
   "metadata": {},
   "outputs": [],
   "source": [
    "clf = svm.SVC()\n",
    "clf.fit(train_data, train_label)\n",
    "pre = clf.predict(test_data)"
   ]
  },
  {
   "cell_type": "markdown",
   "metadata": {},
   "source": [
    "## 5. 正解率の計算\n",
    "- xorと同じ\n",
    "- 正解率は毎回変わる"
   ]
  },
  {
   "cell_type": "code",
   "execution_count": null,
   "metadata": {},
   "outputs": [],
   "source": [
    "ac_score = metrics.accuracy_score(test_label, pre)\n",
    "print(\"正解率=\", ac_score)"
   ]
  },
  {
   "cell_type": "code",
   "execution_count": null,
   "metadata": {},
   "outputs": [],
   "source": []
  },
  {
   "cell_type": "markdown",
   "metadata": {},
   "source": [
    "# iris-train2.ipynb に行く"
   ]
  }
 ],
 "metadata": {
  "kernelspec": {
   "display_name": "Python 3",
   "language": "python",
   "name": "python3"
  },
  "language_info": {
   "codemirror_mode": {
    "name": "ipython",
    "version": 3
   },
   "file_extension": ".py",
   "mimetype": "text/x-python",
   "name": "python",
   "nbconvert_exporter": "python",
   "pygments_lexer": "ipython3",
   "version": "3.6.3"
  }
 },
 "nbformat": 4,
 "nbformat_minor": 2
}
